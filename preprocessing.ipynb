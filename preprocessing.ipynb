{
 "cells": [
  {
   "cell_type": "markdown",
   "id": "40f16475",
   "metadata": {},
   "source": [
    "# Etapa 1 - Enriquecimiento con VADER\n",
    "Esta primera etapa del notebook lee **Data/raw/**, aplica limpieza mínima, añade analisis de sentimientos con **VADER** y heurísticos, agrega métricas por post y comentariosn y guarda **CSV + JSONL** en **Data/enriched/**."
   ]
  },
  {
   "cell_type": "markdown",
   "id": "67544eb9",
   "metadata": {},
   "source": [
    "## Librerias"
   ]
  },
  {
   "cell_type": "code",
   "execution_count": 1,
   "id": "2d7e5196",
   "metadata": {},
   "outputs": [],
   "source": [
    "# Ejecutar esta celda para instalar las siguientes dependencias:\n",
    "# ```bash\n",
    "# pip install pandas tqdm vaderSentiment regex\n",
    "# ``"
   ]
  },
  {
   "cell_type": "code",
   "execution_count": 2,
   "id": "47cfa9f3",
   "metadata": {},
   "outputs": [],
   "source": [
    "from pathlib import Path\n",
    "import json, re\n",
    "import pandas as pd\n",
    "from tqdm import tqdm\n",
    "from vaderSentiment.vaderSentiment import SentimentIntensityAnalyzer"
   ]
  },
  {
   "cell_type": "markdown",
   "id": "04b25e87",
   "metadata": {},
   "source": [
    "## Parámetros"
   ]
  },
  {
   "cell_type": "code",
   "execution_count": 3,
   "id": "a72c614a",
   "metadata": {},
   "outputs": [],
   "source": [
    "DATA_DIR = Path(\"data\")          # base de datos\n",
    "RAW_DIR = DATA_DIR / \"raw\"       # carpeta con la corrida cruda\n",
    "ENRICHED_DIR = DATA_DIR / \"enriched\"  # carpeta para datos enriquecidos\n",
    "ENRICHED_DIR.mkdir(parents=True, exist_ok=True)\n",
    "\n",
    "# Heurísticos acuerdo/desacuerdo (EN/ES). Puedes ampliar listas.\n",
    "AGREE_TERMS = [\n",
    "    r\"\\bi agree\\b\", r\"\\bagree\\b\", r\"\\bsupported\\b\", r\"\\bsupport this\\b\", r\"\\bi support\\b\", r\"\\bvalid point\\b\",\n",
    "    r\"\\bde acuerdo\\b\", r\"\\bapoyo\\b\", r\"\\btiene raz[oó]n\\b\", r\"\\bcierto\\b\", r\"\\btotalmente de acuerdo\\b\", r\"\\bestoy de acuerdo\\b\",\n",
    "]\n",
    "DISAGREE_TERMS = [\n",
    "    r\"\\bi disagree\\b\", r\"\\bdisagree\\b\", r\"\\bnot support\\b\", r\"\\boppose\\b\", r\"\\bagainst this\\b\", r\"\\bbad take\\b\",\n",
    "    r\"\\bno apoyo\\b\", r\"\\ben desacuerdo\\b\", r\"\\bno estoy de acuerdo\\b\", r\"\\bmala idea\\b\", r\"\\bme opongo\\b\",\n",
    "]\n",
    "\n",
    "# Expresiones regulares precompiladas\n",
    "RE_URL = re.compile(r\"https?://\\S+\")\n",
    "RE_WS = re.compile(r\"\\s+\")"
   ]
  },
  {
   "cell_type": "markdown",
   "id": "aef1f745",
   "metadata": {},
   "source": [
    "## Utilidades"
   ]
  },
  {
   "cell_type": "code",
   "execution_count": 4,
   "id": "e431bb3d",
   "metadata": {},
   "outputs": [],
   "source": [
    "def latest_raw_dir(raw_base: Path) -> Path:\n",
    "    \"\"\"Obtiene la subcarpeta más reciente en raw_base.\"\"\"\n",
    "    subs = [p for p in raw_base.iterdir() if p.is_dir()]\n",
    "    if not subs:\n",
    "        raise FileNotFoundError(f\"No hay subcarpetas en {raw_base}. Asegura haber corrido el scraper.\")\n",
    "    return sorted(subs)[-1]\n",
    "\n",
    "\n",
    "def read_csv_or_jsonl(path_csv: Path, path_jsonl: Path) -> pd.DataFrame:\n",
    "    \"\"\"Lee un DataFrame desde CSV o JSONL, dependiendo de cuál exista.\"\"\"\n",
    "    if path_csv.exists():\n",
    "        return pd.read_csv(path_csv)\n",
    "    if path_jsonl.exists():\n",
    "        return pd.read_json(path_jsonl, lines=True)\n",
    "    raise FileNotFoundError(f\"No se encontró ni {path_csv} ni {path_jsonl}\")\n",
    "\n",
    "\n",
    "def minimal_clean_for_vader(text: str) -> str:\n",
    "    \"\"\"Limpieza mínima: normaliza espacios y opcionalmente tokeniza URLs.\n",
    "    Conserva mayúsculas, puntuación y emojis para VADER.\n",
    "    \"\"\"\n",
    "    if not isinstance(text, str):\n",
    "        return \"\"\n",
    "    t = RE_URL.sub(\"URL\", text)\n",
    "    t = RE_WS.sub(\" \", t).strip()\n",
    "    return t\n",
    "\n",
    "\n",
    "def count_hits_regex(text: str, patterns: list[str]) -> int:\n",
    "    \"\"\"Cuenta cuántos patrones en 'patterns' hacen match en 'text' (case insensitive).\"\"\"\n",
    "    if not text:\n",
    "        return 0\n",
    "    t = text.lower()\n",
    "    return sum(1 for pat in patterns if re.search(pat, t))"
   ]
  },
  {
   "cell_type": "markdown",
   "id": "fdae09e0",
   "metadata": {},
   "source": [
    "## Carga de datos crudos"
   ]
  },
  {
   "cell_type": "code",
   "execution_count": 5,
   "id": "b0c1a026",
   "metadata": {},
   "outputs": [
    {
     "name": "stdout",
     "output_type": "stream",
     "text": [
      "Shapes RAW: (200, 11) (15131, 6)\n"
     ]
    }
   ],
   "source": [
    "posts_csv = RAW_DIR / \"posts.csv\"\n",
    "comments_csv = RAW_DIR / \"comments.csv\"\n",
    "posts_jsonl = RAW_DIR / \"posts.jsonl\"\n",
    "comments_jsonl = RAW_DIR / \"comments.jsonl\"\n",
    "\n",
    "posts = read_csv_or_jsonl(posts_csv, posts_jsonl)\n",
    "comments = read_csv_or_jsonl(comments_csv, comments_jsonl)\n",
    "print(\"Shapes RAW:\", posts.shape, comments.shape)\n",
    "\n",
    "# Asegura columnas básicas\n",
    "req_posts = [\"post_id\",\"title\",\"selftext\",\"author\",\"created\",\"score\",\"num_comments\",\"permalink\",\"is_self\",\"image_urls\",\"subreddit\"]\n",
    "for col in req_posts:\n",
    "    if col not in posts.columns:\n",
    "        posts[col] = None\n",
    "\n",
    "req_comments = [\"post_id\",\"comment_id\",\"author\",\"created\",\"score\",\"body\"]\n",
    "for col in req_comments:\n",
    "    if col not in comments.columns:\n",
    "        comments[col] = None"
   ]
  },
  {
   "cell_type": "markdown",
   "id": "c6fd8ce1",
   "metadata": {},
   "source": [
    "## Limpieza mínima para VADER"
   ]
  },
  {
   "cell_type": "code",
   "execution_count": 6,
   "id": "9a0860d3",
   "metadata": {},
   "outputs": [],
   "source": [
    "# Limpieza mínima y features en posts\n",
    "comments[\"body\"] = comments[\"body\"].fillna(\"\")\n",
    "comments[\"body_vader\"] = comments[\"body\"].map(minimal_clean_for_vader)\n",
    "comments[\"has_url\"] = comments[\"body\"].str.contains(r\"https?://\", na=False)\n",
    "comments[\"text_len\"] = comments[\"body\"].str.len().fillna(0)\n",
    "comments[\"author_deleted\"] = comments[\"author\"].isin([None, \"u/[deleted]\"])\n",
    "comments[\"is_bot\"] = comments[\"author\"].fillna(\"\").str.contains(\"automoderator\", case=False)\n",
    "\n",
    "# Eliminar duplicados y conservar índices limpios\n",
    "comments = comments.drop_duplicates(subset=[\"post_id\",\"comment_id\"]).reset_index(drop=True)\n",
    "posts = posts.drop_duplicates(subset=[\"post_id\"]).reset_index(drop=True)\n"
   ]
  },
  {
   "cell_type": "markdown",
   "id": "cb8e704a",
   "metadata": {},
   "source": [
    "## Aplicar VADER y heurísticos"
   ]
  },
  {
   "cell_type": "code",
   "execution_count": 7,
   "id": "64dd18cb",
   "metadata": {},
   "outputs": [
    {
     "name": "stderr",
     "output_type": "stream",
     "text": [
      "VADER: 100%|██████████| 15131/15131 [00:01<00:00, 10745.25it/s]\n"
     ]
    }
   ],
   "source": [
    "# Aplica VADER\n",
    "analyzer = SentimentIntensityAnalyzer()\n",
    "\n",
    "# inicializa listas para scores\n",
    "v_neg, v_neu, v_pos, v_comp = [], [], [], []\n",
    "\n",
    "# Iterar y calcular scores\n",
    "for txt in tqdm(comments[\"body_vader\"].tolist(), desc=\"VADER\"):\n",
    "    scores = analyzer.polarity_scores(txt or \"\")\n",
    "    v_neg.append(scores.get(\"neg\", 0.0))\n",
    "    v_neu.append(scores.get(\"neu\", 0.0))\n",
    "    v_pos.append(scores.get(\"pos\", 0.0))\n",
    "    v_comp.append(scores.get(\"compound\", 0.0))\n",
    "\n",
    "# Asigna scores a DataFrame\n",
    "comments[\"vader_neg\"] = v_neg\n",
    "comments[\"vader_neu\"] = v_neu\n",
    "comments[\"vader_pos\"] = v_pos\n",
    "comments[\"vader_compound\"] = v_comp\n",
    "\n",
    "# Etiqueta a partir de compound (umbrales estándar)\n",
    "comments[\"sentiment_label\"] = pd.cut(\n",
    "    comments[\"vader_compound\"],\n",
    "    bins=[-1.0, -0.5, 0.5, 1.0],\n",
    "    labels=[\"neg\",\"neu\",\"pos\"],\n",
    "    include_lowest=True\n",
    ")\n",
    "\n",
    "# Heurísticos acuerdo/desacuerdo\n",
    "comments[\"agrees\"] = comments[\"body_vader\"].map(lambda t: count_hits_regex(t, AGREE_TERMS))\n",
    "comments[\"disagrees\"] = comments[\"body_vader\"].map(lambda t: count_hits_regex(t, DISAGREE_TERMS))\n",
    "\n",
    "# Agregación por post\n",
    "agg = (\n",
    "    comments.groupby(\"post_id\", group_keys=False)\n",
    "    .apply(lambda g: pd.Series({\n",
    "        \"comments_total\": g[\"comment_id\"].count(),\n",
    "        \"comments_pos\": (g[\"sentiment_label\"] == \"pos\").sum(),\n",
    "        \"comments_neg\": (g[\"sentiment_label\"] == \"neg\").sum(),\n",
    "        \"comments_neu\": (g[\"sentiment_label\"] == \"neu\").sum(),\n",
    "        \"agree_hits\": g[\"agrees\"].sum(),\n",
    "        \"disagree_hits\": g[\"disagrees\"].sum(),\n",
    "    }), include_groups=False)\n",
    "    .reset_index()\n",
    ")\n",
    "\n",
    "\n",
    "# Calcula support_index con manejo de cero\n",
    "num = agg[\"comments_pos\"] + agg[\"agree_hits\"]\n",
    "denom = agg[\"comments_pos\"] + agg[\"comments_neg\"] + agg[\"agree_hits\"] + agg[\"disagree_hits\"]\n",
    "agg[\"support_index\"] = (num / denom.replace({0: pd.NA})).fillna(0.0).round(3)\n",
    "\n",
    "# Une a posts\n",
    "posts_proc = posts.merge(agg, on=\"post_id\", how=\"left\")\n",
    "for col in [\"comments_total\",\"comments_pos\",\"comments_neg\",\"comments_neu\",\"agree_hits\",\"disagree_hits\",\"support_index\"]:\n",
    "    if col not in posts_proc.columns:\n",
    "        posts_proc[col] = 0 if col != \"support_index\" else 0.0"
   ]
  },
  {
   "cell_type": "markdown",
   "id": "39be9c7c",
   "metadata": {},
   "source": [
    "## Guardado (CSV + JSONL)"
   ]
  },
  {
   "cell_type": "code",
   "execution_count": 8,
   "id": "ac80d24d",
   "metadata": {},
   "outputs": [
    {
     "name": "stdout",
     "output_type": "stream",
     "text": [
      "Listo.\n",
      "comments_with_vader: (15131, 18) → data\\enriched\\comments_with_vader.csv\n",
      "posts_with_support: (200, 18) → data\\enriched\\posts_with_support.csv\n"
     ]
    }
   ],
   "source": [
    "comments_out_csv = ENRICHED_DIR / \"comments_with_vader.csv\"\n",
    "comments_out_jsonl = ENRICHED_DIR / \"comments_with_vader.jsonl\"\n",
    "posts_out_csv = ENRICHED_DIR / \"posts_with_support.csv\"\n",
    "posts_out_jsonl = ENRICHED_DIR / \"posts_with_support.jsonl\"\n",
    "\n",
    "comments.to_csv(comments_out_csv, index=False, encoding=\"utf-8-sig\")\n",
    "posts_proc.to_csv(posts_out_csv, index=False, encoding=\"utf-8-sig\")\n",
    "\n",
    "with open(comments_out_jsonl, \"w\", encoding=\"utf-8\") as f:\n",
    "    for _, row in comments.iterrows():\n",
    "        f.write(json.dumps(row.to_dict(), ensure_ascii=False) + \"\\n\")\n",
    "\n",
    "with open(posts_out_jsonl, \"w\", encoding=\"utf-8\") as f:\n",
    "    for _, row in posts_proc.iterrows():\n",
    "        f.write(json.dumps(row.to_dict(), ensure_ascii=False) + \"\\n\")\n",
    "\n",
    "print(\"Listo.\")\n",
    "print(\"comments_with_vader:\", comments.shape, \"→\", comments_out_csv)\n",
    "print(\"posts_with_support:\", posts_proc.shape, \"→\", posts_out_csv)"
   ]
  },
  {
   "cell_type": "markdown",
   "id": "00d9a3a5",
   "metadata": {},
   "source": [
    "# Etapa 2: Preprocesamiento Completo"
   ]
  },
  {
   "cell_type": "markdown",
   "id": "ce492f49",
   "metadata": {},
   "source": [
    "Esta segunda etapa del notebook lee **Data/enriched/** producidos en la primera etapa, y aplica deteccion de idioma, limpieza y extraccion de features."
   ]
  },
  {
   "cell_type": "markdown",
   "id": "afa57ffb",
   "metadata": {},
   "source": [
    "## Librerias"
   ]
  },
  {
   "cell_type": "code",
   "execution_count": 9,
   "id": "3e813293",
   "metadata": {},
   "outputs": [],
   "source": [
    "# Ejecutar esta celda para instalar las siguientes dependencias:\n",
    "# ```bash\n",
    "# pip install pandas tqdm langdetect regex unidecode\n",
    "# ```"
   ]
  },
  {
   "cell_type": "code",
   "execution_count": 10,
   "id": "2bf545c5",
   "metadata": {},
   "outputs": [],
   "source": [
    "from pathlib import Path\n",
    "from dataclasses import dataclass\n",
    "import json, math, unicodedata\n",
    "import pandas as pd\n",
    "import numpy as np\n",
    "from tqdm import tqdm\n",
    "from langdetect import detect_langs, DetectorFactory\n",
    "import re\n",
    "from unidecode import unidecode\n",
    "import regex as rx"
   ]
  },
  {
   "cell_type": "markdown",
   "id": "2587d43a",
   "metadata": {},
   "source": [
    "## Parámetros"
   ]
  },
  {
   "cell_type": "code",
   "execution_count": 11,
   "id": "5d292ffe",
   "metadata": {},
   "outputs": [],
   "source": [
    "# Determinismo para langdetect\n",
    "DetectorFactory.seed = 0\n",
    "\n",
    "# Rutas de datos\n",
    "DATA_DIR = Path(\"data\")                 # base de datos\n",
    "ENRICHED_DIR = DATA_DIR / \"enriched\"    # carpeta con datos enriquecidos\n",
    "OUT_DIR = DATA_DIR / \"processed\"        # carpeta para datos procesados\n",
    "# Crea carpeta de salida si no existe\n",
    "OUT_DIR.mkdir(parents=True, exist_ok=True)\n",
    "\n",
    "# Rutas de archivos\n",
    "COMMENTS_IN_CSV = ENRICHED_DIR / \"comments_with_vader.csv\"\n",
    "COMMENTS_IN_JSONL = ENRICHED_DIR / \"comments_with_vader.jsonl\"\n",
    "POSTS_IN_CSV = ENRICHED_DIR / \"posts_with_support.csv\"\n",
    "POSTS_IN_JSONL = ENRICHED_DIR / \"posts_with_support.jsonl\"\n",
    "\n",
    "# Expresiones regulares precompiladas\n",
    "RE_URL = re.compile(r\"https?://\\S+\", re.I)\n",
    "RE_USER = re.compile(r\"\\bu/\\w+\", re.I)\n",
    "RE_SUB = re.compile(r\"\\br/\\w+\", re.I)\n",
    "RE_WS = re.compile(r\"\\s+\")\n",
    "\n",
    "RE_NON_ALNUM = rx.compile(r\"[^\\p{L}\\p{N}\\s]\", rx.UNICODE)"
   ]
  },
  {
   "cell_type": "markdown",
   "id": "ef700248",
   "metadata": {},
   "source": [
    "## Utilidades"
   ]
  },
  {
   "cell_type": "code",
   "execution_count": 12,
   "id": "54716ef6",
   "metadata": {},
   "outputs": [],
   "source": [
    "def read_df(csv_path: Path, jsonl_path: Path) -> pd.DataFrame:\n",
    "    \"\"\"Lee un DataFrame desde CSV o JSONL, dependiendo de cuál exista.\"\"\"\n",
    "    if csv_path.exists():\n",
    "        return pd.read_csv(csv_path)\n",
    "    if jsonl_path.exists():\n",
    "        return pd.read_json(jsonl_path, lines=True)\n",
    "    raise FileNotFoundError(f\"No se encontró {csv_path} ni {jsonl_path}\")\n",
    "\n",
    "\n",
    "def safe_len(s: str) -> int:\n",
    "    \"\"\"Devuelve la longitud de una cadena de forma segura.\"\"\"\n",
    "    try:\n",
    "        return len(s)\n",
    "    except Exception:\n",
    "        return 0\n",
    "\n",
    "\n",
    "def detect_language(text: str) -> str:\n",
    "    \"\"\"Detecta idioma ('en','es',...) o 'unk'. Usa langdetect con manejo de errores.\"\"\"\n",
    "    if not isinstance(text, str):\n",
    "        return \"unk\"\n",
    "    t = text.strip()\n",
    "    if len(t) < 3:\n",
    "        return \"unk\"\n",
    "    try:\n",
    "        probs = detect_langs(t)\n",
    "        if not probs:\n",
    "            return \"unk\"\n",
    "        # toma el idioma con mayor probabilidad\n",
    "        best = max(probs, key=lambda p: p.prob)\n",
    "        # normaliza códigos largos (ej. 'en' ya ok, 'pt-BR' -> 'pt')\n",
    "        code = str(best.lang).split('-')[0].lower()\n",
    "        return code\n",
    "    except Exception:\n",
    "        return \"unk\"\n",
    "\n",
    "\n",
    "def clean_text_ml(text: str, lang: str) -> str:\n",
    "    \"\"\"Limpieza para modelado: minúsculas, sin URLs/usuarios/subs, sin puntuación.\n",
    "    Normaliza espacios y acentos. Conservar números.\"\"\"\n",
    "    # Verifica tipo\n",
    "    if not isinstance(text, str):\n",
    "        return \"\"\n",
    "    # Elimina URLs, usuarios y subreddits\n",
    "    t = RE_URL.sub(\" \", text)\n",
    "    t = RE_USER.sub(\" \", t)\n",
    "    t = RE_SUB.sub(\" \", t)\n",
    "    # elimina caracteres no alfanuméricos especiales\n",
    "    t = rx.sub(r\"[\\p{C}\\p{Zl}\\p{Zp}]\", \" \", t)  # controla separadores raros\n",
    "    # Sustituye no alfanuméricos por espacio\n",
    "    t = RE_NON_ALNUM.sub(\" \", t)\n",
    "    # normaliza espacios\n",
    "    t = RE_WS.sub(\" \", t).strip()\n",
    "    # minúsculas y quitar acentos\n",
    "    t = t.lower()\n",
    "    t = unidecode(t)\n",
    "    return t"
   ]
  },
  {
   "cell_type": "markdown",
   "id": "a27cf0b0",
   "metadata": {},
   "source": [
    "## Carga de datos"
   ]
  },
  {
   "cell_type": "code",
   "execution_count": 13,
   "id": "636e02ef",
   "metadata": {},
   "outputs": [],
   "source": [
    "comments = read_df(COMMENTS_IN_CSV, COMMENTS_IN_JSONL)\n",
    "posts = read_df(POSTS_IN_CSV, POSTS_IN_JSONL)\n",
    "\n",
    "# Normaliza columnas esperadas mínimas\n",
    "for col in [\"post_id\",\"comment_id\",\"author\",\"created\",\"score\",\"body\",\"body_vader\",\n",
    "            \"vader_neg\",\"vader_neu\",\"vader_pos\",\"vader_compound\",\"sentiment_label\",\n",
    "            \"agrees\",\"disagrees\",\"has_url\",\"text_len\",\"author_deleted\",\"is_bot\"]:\n",
    "    if col not in comments.columns:\n",
    "        comments[col] = np.nan\n",
    "\n",
    "for col in [\"post_id\",\"title\",\"selftext\",\"author\",\"created\",\"score\",\"num_comments\",\n",
    "            \"permalink\",\"is_self\",\"image_urls\",\"subreddit\",\n",
    "            \"comments_total\",\"comments_pos\",\"comments_neg\",\"comments_neu\",\n",
    "            \"agree_hits\",\"disagree_hits\",\"support_index\"]:\n",
    "    if col not in posts.columns:\n",
    "        posts[col] = np.nan"
   ]
  },
  {
   "cell_type": "markdown",
   "id": "fd0aaaed",
   "metadata": {},
   "source": [
    "## Duplicados, nulos y tipos"
   ]
  },
  {
   "cell_type": "code",
   "execution_count": 14,
   "id": "71d8c2dc",
   "metadata": {},
   "outputs": [],
   "source": [
    "# Conserva texto original antes de limpiar\n",
    "comments[\"body_raw\"] = comments[\"body\"]\n",
    "\n",
    "# Quita duplicados y corrige tipos\n",
    "comments = comments.drop_duplicates(subset=[\"post_id\",\"comment_id\"])\n",
    "comments[\"score\"] = pd.to_numeric(comments[\"score\"], errors=\"coerce\").astype(\"Int64\")\n",
    "comments[\"created\"] = pd.to_datetime(comments[\"created\"], errors=\"coerce\", utc=True)\n",
    "posts = posts.drop_duplicates(subset=[\"post_id\"])\n",
    "posts[\"score\"] = pd.to_numeric(posts[\"score\"], errors=\"coerce\").astype(\"Int64\")\n",
    "posts[\"created\"] = pd.to_datetime(posts[\"created\"], errors=\"coerce\", utc=True)\n",
    "\n",
    "# Normalizacion de fechas y nulos\n",
    "comments[\"created\"] = pd.to_datetime(comments[\"created\"], errors=\"coerce\", utc=True)\n",
    "posts[\"created\"] = pd.to_datetime(posts[\"created\"], errors=\"coerce\", utc=True)\n",
    "\n",
    "# Rellena nulos básicos\n",
    "comments = comments.fillna({\n",
    "    \"author\": \"unknown\",\n",
    "    \"body\": \"\",\n",
    "    \"lang\": \"unk\",\n",
    "    \"text_ml\": \"\",\n",
    "    \"score\": 0\n",
    "})\n",
    "posts = posts.fillna({\n",
    "    \"author\": \"unknown\",\n",
    "    \"title\": \"\",\n",
    "    \"selftext\": \"\",\n",
    "    \"score\": 0\n",
    "})\n",
    "\n",
    "# Conversion de fecha a string\n",
    "comments[\"created\"] = comments[\"created\"].dt.strftime(\"%Y-%m-%dT%H:%M:%SZ\")\n",
    "posts[\"created\"] = posts[\"created\"].dt.strftime(\"%Y-%m-%dT%H:%M:%SZ\")\n"
   ]
  },
  {
   "cell_type": "markdown",
   "id": "1bb5b01d",
   "metadata": {},
   "source": [
    "## Detección de Idioma"
   ]
  },
  {
   "cell_type": "code",
   "execution_count": 15,
   "id": "c4721a02",
   "metadata": {},
   "outputs": [
    {
     "name": "stdout",
     "output_type": "stream",
     "text": [
      "Detectando idioma en comentarios...\n"
     ]
    },
    {
     "name": "stderr",
     "output_type": "stream",
     "text": [
      "100%|██████████| 15131/15131 [00:41<00:00, 366.69it/s]\n"
     ]
    },
    {
     "name": "stdout",
     "output_type": "stream",
     "text": [
      "Detectando idioma en posts...\n"
     ]
    },
    {
     "name": "stderr",
     "output_type": "stream",
     "text": [
      "100%|██████████| 200/200 [00:00<00:00, 454.96it/s]\n"
     ]
    }
   ],
   "source": [
    "print(\"Detectando idioma en comentarios...\")\n",
    "comm_langs = []\n",
    "for txt in tqdm(comments[\"body\"].fillna(\"\").tolist(), total=len(comments)):\n",
    "    comm_langs.append(detect_language(txt))\n",
    "comments[\"lang\"] = comm_langs\n",
    "\n",
    "print(\"Detectando idioma en posts...\")\n",
    "post_langs = []\n",
    "for txt in tqdm(posts[\"selftext\"].fillna(\"\").tolist(), total=len(posts)):\n",
    "    post_langs.append(detect_language(txt))\n",
    "posts[\"lang\"] = post_langs"
   ]
  },
  {
   "cell_type": "markdown",
   "id": "bf017f78",
   "metadata": {},
   "source": [
    "## Limpieza de texto para ML"
   ]
  },
  {
   "cell_type": "code",
   "execution_count": 16,
   "id": "5e1e009c",
   "metadata": {},
   "outputs": [
    {
     "name": "stdout",
     "output_type": "stream",
     "text": [
      "Limpieza de texto para modelado...\n"
     ]
    }
   ],
   "source": [
    "print(\"Limpieza de texto para modelado...\")\n",
    "comments[\"text_ml\"] = [clean_text_ml(t, l) for t, l in zip(comments[\"body\"].fillna(\"\"), comments[\"lang\"]) ]"
   ]
  },
  {
   "cell_type": "markdown",
   "id": "66b6631b",
   "metadata": {},
   "source": [
    "## Guardado (CSV y JSONL)"
   ]
  },
  {
   "cell_type": "code",
   "execution_count": 17,
   "id": "0fd1aa5b",
   "metadata": {},
   "outputs": [
    {
     "name": "stdout",
     "output_type": "stream",
     "text": [
      "Guardado en: data\\processed\n",
      "Subset en inglés guardado en data\\processed\\comments_lang_en.csv. \n"
     ]
    }
   ],
   "source": [
    "comments_out_csv   = OUT_DIR / \"comments_lang_norm.csv\"\n",
    "comments_out_jsonl = OUT_DIR / \"comments_lang_norm.jsonl\"\n",
    "\n",
    "comments.to_csv(comments_out_csv, index=False, encoding=\"utf-8-sig\")\n",
    "with open(comments_out_jsonl, \"w\", encoding=\"utf-8\") as f:\n",
    "    for _, r in comments.iterrows():\n",
    "        f.write(json.dumps(r.to_dict(), ensure_ascii=False) + \"\\n\")\n",
    "\n",
    "print(\"Guardado en:\", OUT_DIR)\n",
    "\n",
    "# Subset en ingles adicional\n",
    "en = comments[comments[\"lang\"]==\"en\"].copy()\n",
    "en.to_csv(OUT_DIR / \"comments_lang_en.csv\", index=False, encoding=\"utf-8-sig\")\n",
    "print(f\"Subset en inglés guardado en {OUT_DIR / 'comments_lang_en.csv'}. \")\n"
   ]
  },
  {
   "cell_type": "markdown",
   "id": "b8d90a66",
   "metadata": {},
   "source": [
    "## Vista Rapida"
   ]
  },
  {
   "cell_type": "code",
   "execution_count": 18,
   "id": "36a27613",
   "metadata": {},
   "outputs": [],
   "source": [
    "import matplotlib.pyplot as plt\n",
    "\n",
    "figs_dir = OUT_DIR / \"figs\"\n",
    "figs_dir.mkdir(parents=True, exist_ok=True)"
   ]
  },
  {
   "cell_type": "code",
   "execution_count": 19,
   "id": "6ecb5ef4",
   "metadata": {},
   "outputs": [
    {
     "data": {
      "image/png": "[encoded data removed]",
      "text/plain": [
       "<Figure size 640x480 with 1 Axes>"
      ]
     },
     "metadata": {},
     "output_type": "display_data"
    }
   ],
   "source": [
    "vc_lang = comments[\"lang\"].value_counts().sort_values(ascending=False)\n",
    "plt.figure()\n",
    "vc_lang.plot(kind=\"bar\")\n",
    "plt.title(\"Distribución de idiomas en comentarios\")\n",
    "plt.xlabel(\"Idioma\")\n",
    "plt.ylabel(\"Conteo\")\n",
    "plt.tight_layout()\n",
    "plt.savefig(figs_dir / \"dist_idiomas_comentarios.png\", dpi=150)\n",
    "plt.show()"
   ]
  },
  {
   "cell_type": "code",
   "execution_count": 20,
   "id": "0c6cb32f",
   "metadata": {},
   "outputs": [
    {
     "data": {
      "image/png": "[encoded data removed]",
      "text/plain": [
       "<Figure size 640x480 with 1 Axes>"
      ]
     },
     "metadata": {},
     "output_type": "display_data"
    }
   ],
   "source": [
    "vc_sent = comments[\"sentiment_label\"].value_counts().reindex([\"neg\",\"neu\",\"pos\"])\n",
    "plt.figure()\n",
    "vc_sent.plot(kind=\"bar\")\n",
    "plt.title(\"Distribución de sentimiento (VADER)\")\n",
    "plt.xlabel(\"Etiqueta\")\n",
    "plt.ylabel(\"Conteo\")\n",
    "plt.tight_layout()\n",
    "plt.savefig(figs_dir / \"dist_sentimiento_vader.png\", dpi=150)\n",
    "plt.show()"
   ]
  },
  {
   "cell_type": "code",
   "execution_count": 21,
   "id": "46788987",
   "metadata": {},
   "outputs": [
    {
     "data": {
      "image/png": "[encoded data removed]",
      "text/plain": [
       "<Figure size 640x480 with 1 Axes>"
      ]
     },
     "metadata": {},
     "output_type": "display_data"
    }
   ],
   "source": [
    "posts_enriched = read_df(ENRICHED_DIR / \"posts_with_support.csv\",\n",
    "                         ENRICHED_DIR / \"posts_with_support.jsonl\")\n",
    "if \"support_index\" in posts_enriched.columns:\n",
    "    plt.figure()\n",
    "    posts_enriched[\"support_index\"].dropna().astype(float).plot(kind=\"hist\", bins=30)\n",
    "    plt.title(\"Histograma de support_index (por post)\")\n",
    "    plt.xlabel(\"support_index\")\n",
    "    plt.ylabel(\"Frecuencia\")\n",
    "    plt.tight_layout()\n",
    "    plt.savefig(figs_dir / \"hist_support_index.png\", dpi=150)\n",
    "    plt.show()"
   ]
  }
 ],
 "metadata": {
  "kernelspec": {
   "display_name": "reddit-scrapper",
   "language": "python",
   "name": "python3"
  },
  "language_info": {
   "codemirror_mode": {
    "name": "ipython",
    "version": 3
   },
   "file_extension": ".py",
   "mimetype": "text/x-python",
   "name": "python",
   "nbconvert_exporter": "python",
   "pygments_lexer": "ipython3",
   "version": "3.12.12"
  }
 },
 "nbformat": 4,
 "nbformat_minor": 5
}
