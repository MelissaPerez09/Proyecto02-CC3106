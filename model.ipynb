{
 "cells": [
  {
   "cell_type": "markdown",
   "id": "fdea30c6",
   "metadata": {},
   "source": [
    "# Modelo de Clasificación de Comentarios de Reddit\n",
    "\n",
    "Este notebook implementa un modelo random forest para clasificar comentarios basado en el analisis de sentimientos"
   ]
  },
  {
   "cell_type": "markdown",
   "id": "db4cdbdd",
   "metadata": {},
   "source": [
    "## Librerias"
   ]
  },
  {
   "cell_type": "code",
   "execution_count": 1,
   "id": "36dae7fe",
   "metadata": {},
   "outputs": [],
   "source": [
    "import pandas as pd\n",
    "import numpy as np\n",
    "import matplotlib.pyplot as plt\n",
    "import seaborn as sns\n",
    "from sklearn.feature_extraction.text import TfidfVectorizer\n",
    "from sklearn.model_selection import train_test_split\n",
    "from sklearn.ensemble import RandomForestClassifier\n",
    "from sklearn.metrics import classification_report, confusion_matrix, ConfusionMatrixDisplay"
   ]
  },
  {
   "cell_type": "markdown",
   "id": "06e86e1b",
   "metadata": {},
   "source": [
    "## Carga de datos preprocesados"
   ]
  },
  {
   "cell_type": "code",
   "execution_count": 2,
   "id": "b3abb841",
   "metadata": {},
   "outputs": [],
   "source": [
    "df = pd.read_csv(\"data/processed/comments_lang_en.csv\")"
   ]
  },
  {
   "cell_type": "markdown",
   "id": "3a0806e8",
   "metadata": {},
   "source": [
    "## Parametros"
   ]
  },
  {
   "cell_type": "code",
   "execution_count": 3,
   "id": "690bbc14",
   "metadata": {},
   "outputs": [],
   "source": [
    "# Lista de palabras ofensivas\n",
    "bad_words = [\n",
    "    \"idiot\", \"stupid\", \"moron\", \"hate\", \"trash\", \"kill\", \"fuck\", \"dumb\",\n",
    "    \"loser\", \"shut up\", \"disgusting\", \"ugly\", \"worthless\", \"pathetic\",\n",
    "    \"suck\", \"annoying\", \"nonsense\", \"fool\", \"jerk\", \"bastard\", \"crap\", \"damn\"\n",
    "]\n",
    "\n",
    "def pseudo_label(text):\n",
    "    text = str(text).lower()\n",
    "    return 1 if any(bad in text for bad in bad_words) else 0\n",
    "\n",
    "df[\"target\"] = df[\"text_ml\"].apply(pseudo_label)"
   ]
  },
  {
   "cell_type": "markdown",
   "id": "62dc5940",
   "metadata": {},
   "source": [
    "## Features TF-IDF + VADER"
   ]
  },
  {
   "cell_type": "code",
   "execution_count": 4,
   "id": "24978f21",
   "metadata": {},
   "outputs": [],
   "source": [
    "tfidf = TfidfVectorizer(max_features=3000, ngram_range=(1,2))\n",
    "X_tfidf = tfidf.fit_transform(df[\"text_ml\"].fillna(\"\"))\n",
    "\n",
    "vader_feats = df[[\"vader_neg\", \"vader_neu\", \"vader_pos\", \"vader_compound\"]].fillna(0).values\n",
    "X = np.hstack((X_tfidf.toarray(), vader_feats))\n",
    "y = df[\"target\"]"
   ]
  },
  {
   "cell_type": "markdown",
   "id": "4b51193a",
   "metadata": {},
   "source": [
    "## Split de Entrenamiento y Pruebas"
   ]
  },
  {
   "cell_type": "code",
   "execution_count": 5,
   "id": "5acec3c4",
   "metadata": {},
   "outputs": [],
   "source": [
    "X_train, X_test, y_train, y_test = train_test_split(X, y, test_size=0.2, random_state=42)"
   ]
  },
  {
   "cell_type": "markdown",
   "id": "4e0dddda",
   "metadata": {},
   "source": [
    "## Modelo Random Forest"
   ]
  },
  {
   "cell_type": "code",
   "execution_count": 6,
   "id": "04f18f33",
   "metadata": {},
   "outputs": [],
   "source": [
    "model = RandomForestClassifier(n_estimators=200, random_state=42, n_jobs=-1)\n",
    "model.fit(X_train, y_train)\n",
    "y_pred = model.predict(X_test)"
   ]
  },
  {
   "cell_type": "markdown",
   "id": "06bc4921",
   "metadata": {},
   "source": [
    "## Resultados"
   ]
  },
  {
   "cell_type": "code",
   "execution_count": 7,
   "id": "c59a5467",
   "metadata": {},
   "outputs": [
    {
     "name": "stdout",
     "output_type": "stream",
     "text": [
      "              precision    recall  f1-score   support\n",
      "\n",
      "           0       0.98      1.00      0.99      2537\n",
      "           1       1.00      0.35      0.52        95\n",
      "\n",
      "    accuracy                           0.98      2632\n",
      "   macro avg       0.99      0.67      0.75      2632\n",
      "weighted avg       0.98      0.98      0.97      2632\n",
      "\n"
     ]
    }
   ],
   "source": [
    "print(classification_report(y_test, y_pred, digits=2))"
   ]
  },
  {
   "cell_type": "code",
   "execution_count": 8,
   "id": "b0782002",
   "metadata": {},
   "outputs": [
    {
     "data": {
      "image/png": "[encoded data removed]",
      "text/plain": [
       "<Figure size 640x480 with 2 Axes>"
      ]
     },
     "metadata": {},
     "output_type": "display_data"
    }
   ],
   "source": [
    "cm = confusion_matrix(y_test, y_pred)\n",
    "disp = ConfusionMatrixDisplay(confusion_matrix=cm, display_labels=[\"No ofensivo\",\"Ofensivo\"])\n",
    "disp.plot(cmap=\"Blues\")\n",
    "plt.title(\"Matriz de confusión - Clasificador RandomForest\")\n",
    "plt.tight_layout()\n",
    "plt.savefig(\"data/processed/figs/confusion_matrix.png\", dpi=150)\n",
    "plt.show()"
   ]
  }
 ],
 "metadata": {
  "kernelspec": {
   "display_name": "reddit-scrapper",
   "language": "python",
   "name": "python3"
  },
  "language_info": {
   "codemirror_mode": {
    "name": "ipython",
    "version": 3
   },
   "file_extension": ".py",
   "mimetype": "text/x-python",
   "name": "python",
   "nbconvert_exporter": "python",
   "pygments_lexer": "ipython3",
   "version": "3.12.12"
  }
 },
 "nbformat": 4,
 "nbformat_minor": 5
}
