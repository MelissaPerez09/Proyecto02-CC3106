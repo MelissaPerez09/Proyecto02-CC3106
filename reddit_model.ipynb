{
 "cells": [
  {
   "cell_type": "code",
   "execution_count": 42,
   "id": "36dae7fe",
   "metadata": {},
   "outputs": [],
   "source": [
    "import pandas as pd\n",
    "import re\n",
    "from vaderSentiment.vaderSentiment import SentimentIntensityAnalyzer\n",
    "from sklearn.feature_extraction.text import TfidfVectorizer\n",
    "from sklearn.model_selection import train_test_split\n",
    "from sklearn.ensemble import RandomForestClassifier\n",
    "from sklearn.metrics import classification_report\n",
    "import numpy as np\n",
    "import os"
   ]
  },
  {
   "cell_type": "code",
   "execution_count": 43,
   "id": "7f2bcfee",
   "metadata": {},
   "outputs": [
    {
     "name": "stderr",
     "output_type": "stream",
     "text": [
      "C:\\Users\\euroc\\AppData\\Local\\Temp\\ipykernel_83936\\547275316.py:7: SettingWithCopyWarning: \n",
      "A value is trying to be set on a copy of a slice from a DataFrame.\n",
      "Try using .loc[row_indexer,col_indexer] = value instead\n",
      "\n",
      "See the caveats in the documentation: https://pandas.pydata.org/pandas-docs/stable/user_guide/indexing.html#returning-a-view-versus-a-copy\n",
      "  df_posts['text'] = df_posts['title'].fillna('') + ' ' + df_posts['selftext'].fillna('')\n"
     ]
    }
   ],
   "source": [
    "# Cargar datos\n",
    "posts = pd.read_csv(\".\\\\reddit_api_output\\\\posts.csv\")\n",
    "comments = pd.read_csv(\".\\\\reddit_api_output\\\\comments.csv\")\n",
    "\n",
    "# Unificar columnas relevantes\n",
    "df_posts = posts[['post_id', 'author', 'selftext', 'title']]\n",
    "df_posts['text'] = df_posts['title'].fillna('') + ' ' + df_posts['selftext'].fillna('')\n",
    "\n",
    "df_comments = comments[['post_id', 'author', 'body']]\n",
    "df_comments = df_comments.rename(columns={'body': 'text'})\n",
    "\n",
    "# Unificar posts + comentarios\n",
    "df_all = pd.concat([df_posts[['post_id', 'author', 'text']],\n",
    "                    df_comments[['post_id', 'author', 'text']]], ignore_index=True)"
   ]
  },
  {
   "cell_type": "code",
   "execution_count": 44,
   "id": "c70e8f9c",
   "metadata": {},
   "outputs": [],
   "source": [
    "def clean_text(text):\n",
    "    text = re.sub(r\"http\\S+\", \"\", str(text))         \n",
    "    text = re.sub(r\"[^a-zA-ZáéíóúñüÁÉÍÓÚÑÜ\\s]\", \"\", text)  \n",
    "    text = re.sub(r\"\\s+\", \" \", text).strip()          \n",
    "    return text.lower()"
   ]
  },
  {
   "cell_type": "code",
   "execution_count": 45,
   "id": "ead7b788",
   "metadata": {},
   "outputs": [
    {
     "data": {
      "text/html": [
       "<div>\n",
       "<style scoped>\n",
       "    .dataframe tbody tr th:only-of-type {\n",
       "        vertical-align: middle;\n",
       "    }\n",
       "\n",
       "    .dataframe tbody tr th {\n",
       "        vertical-align: top;\n",
       "    }\n",
       "\n",
       "    .dataframe thead th {\n",
       "        text-align: right;\n",
       "    }\n",
       "</style>\n",
       "<table border=\"1\" class=\"dataframe\">\n",
       "  <thead>\n",
       "    <tr style=\"text-align: right;\">\n",
       "      <th></th>\n",
       "      <th>post_id</th>\n",
       "      <th>author</th>\n",
       "      <th>text</th>\n",
       "      <th>clean_text</th>\n",
       "    </tr>\n",
       "  </thead>\n",
       "  <tbody>\n",
       "    <tr>\n",
       "      <th>0</th>\n",
       "      <td>1lcftjz</td>\n",
       "      <td>u/SuperiorT</td>\n",
       "      <td>Got my mom her green card by enlisting in the ...</td>\n",
       "      <td>got my mom her green card by enlisting in the ...</td>\n",
       "    </tr>\n",
       "    <tr>\n",
       "      <th>1</th>\n",
       "      <td>1grmeq4</td>\n",
       "      <td>u/adepojus</td>\n",
       "      <td>Today I became a US citizen I came into United...</td>\n",
       "      <td>today i became a us citizen i came into united...</td>\n",
       "    </tr>\n",
       "    <tr>\n",
       "      <th>2</th>\n",
       "      <td>1gkfbph</td>\n",
       "      <td>u/Asteroids19_9</td>\n",
       "      <td>Today I became a US citizen I am a 19 year old...</td>\n",
       "      <td>today i became a us citizen i am a year old st...</td>\n",
       "    </tr>\n",
       "    <tr>\n",
       "      <th>3</th>\n",
       "      <td>1glflxy</td>\n",
       "      <td>u/Honest-Grape-9352</td>\n",
       "      <td>So, what now? An immigration attorney perspect...</td>\n",
       "      <td>so what now an immigration attorney perspectiv...</td>\n",
       "    </tr>\n",
       "    <tr>\n",
       "      <th>4</th>\n",
       "      <td>1ltlanr</td>\n",
       "      <td>u/Ajax4557</td>\n",
       "      <td>Became a Citizen after 26 years!!</td>\n",
       "      <td>became a citizen after years</td>\n",
       "    </tr>\n",
       "  </tbody>\n",
       "</table>\n",
       "</div>"
      ],
      "text/plain": [
       "   post_id               author  \\\n",
       "0  1lcftjz          u/SuperiorT   \n",
       "1  1grmeq4           u/adepojus   \n",
       "2  1gkfbph      u/Asteroids19_9   \n",
       "3  1glflxy  u/Honest-Grape-9352   \n",
       "4  1ltlanr           u/Ajax4557   \n",
       "\n",
       "                                                text  \\\n",
       "0  Got my mom her green card by enlisting in the ...   \n",
       "1  Today I became a US citizen I came into United...   \n",
       "2  Today I became a US citizen I am a 19 year old...   \n",
       "3  So, what now? An immigration attorney perspect...   \n",
       "4                 Became a Citizen after 26 years!!    \n",
       "\n",
       "                                          clean_text  \n",
       "0  got my mom her green card by enlisting in the ...  \n",
       "1  today i became a us citizen i came into united...  \n",
       "2  today i became a us citizen i am a year old st...  \n",
       "3  so what now an immigration attorney perspectiv...  \n",
       "4                       became a citizen after years  "
      ]
     },
     "execution_count": 45,
     "metadata": {},
     "output_type": "execute_result"
    }
   ],
   "source": [
    "df_all['clean_text'] = df_all['text'].apply(clean_text)\n",
    "df_all.head()"
   ]
  },
  {
   "cell_type": "code",
   "execution_count": 46,
   "id": "24978f21",
   "metadata": {},
   "outputs": [],
   "source": [
    "analyzer = SentimentIntensityAnalyzer()\n",
    "\n",
    "df_all[['vader_neg', 'vader_neu', 'vader_pos', 'vader_compound']] = df_all['clean_text'].apply(\n",
    "    lambda x: pd.Series(analyzer.polarity_scores(x))\n",
    ")"
   ]
  },
  {
   "cell_type": "code",
   "execution_count": 47,
   "id": "ad8e260d",
   "metadata": {},
   "outputs": [],
   "source": [
    "bad_words = [\"idiot\", \"stupid\", \"moron\", \"hate\", \"trash\", \"kill\", \"fuck\", \"dumb\", \"loser\", \"shut up\", \"disgusting\", \"ugly\",\n",
    "             \"worthless\", \"pathetic\", \"suck\", \"annoying\", \"nonsense\", \"fool\", \"jerk\", \"bastard\", \"crap\", \"damn\"]\n",
    "\n",
    "\n",
    "\n",
    "def pseudo_label(text):\n",
    "    if any(bad in text for bad in bad_words):\n",
    "        return 1\n",
    "    return 0\n",
    "\n",
    "df_all[\"target\"] = df_all[\"clean_text\"].apply(pseudo_label)\n"
   ]
  },
  {
   "cell_type": "code",
   "execution_count": 48,
   "id": "de5e7dc9",
   "metadata": {},
   "outputs": [
    {
     "name": "stdout",
     "output_type": "stream",
     "text": [
      "              precision    recall  f1-score   support\n",
      "\n",
      "           0       0.97      1.00      0.99      2951\n",
      "           1       1.00      0.27      0.42       108\n",
      "\n",
      "    accuracy                           0.97      3059\n",
      "   macro avg       0.99      0.63      0.71      3059\n",
      "weighted avg       0.97      0.97      0.97      3059\n",
      "\n"
     ]
    }
   ],
   "source": [
    "tfidf = TfidfVectorizer(max_features=3000, ngram_range=(1,2))\n",
    "X_tfidf = tfidf.fit_transform(df_all['clean_text'])\n",
    "\n",
    "# Concatenar features numéricos de VADER\n",
    "import numpy as np\n",
    "X = np.hstack((X_tfidf.toarray(), df_all[['vader_neg','vader_neu','vader_pos','vader_compound']].values))\n",
    "\n",
    "y = df_all['target']\n",
    "\n",
    "# Entrenamiento\n",
    "X_train, X_test, y_train, y_test = train_test_split(X, y, test_size=0.2, random_state=42)\n",
    "model = RandomForestClassifier(n_estimators=200, random_state=42)\n",
    "model.fit(X_train, y_train)\n",
    "\n",
    "y_pred = model.predict(X_test)\n",
    "print(classification_report(y_test, y_pred))"
   ]
  },
  {
   "cell_type": "code",
   "execution_count": null,
   "id": "5acec3c4",
   "metadata": {},
   "outputs": [],
   "source": []
  }
 ],
 "metadata": {
  "kernelspec": {
   "display_name": ".venv",
   "language": "python",
   "name": "python3"
  },
  "language_info": {
   "codemirror_mode": {
    "name": "ipython",
    "version": 3
   },
   "file_extension": ".py",
   "mimetype": "text/x-python",
   "name": "python",
   "nbconvert_exporter": "python",
   "pygments_lexer": "ipython3",
   "version": "3.12.10"
  }
 },
 "nbformat": 4,
 "nbformat_minor": 5
}
